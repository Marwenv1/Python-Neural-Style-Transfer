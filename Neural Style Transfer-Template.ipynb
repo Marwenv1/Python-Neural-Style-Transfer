{
 "nbformat": 4,
 "nbformat_minor": 0,
 "metadata": {
  "kernelspec": {
   "display_name": "Python 3",
   "language": "python",
   "name": "python3"
  },
  "language_info": {
   "codemirror_mode": {
    "name": "ipython",
    "version": 3
   },
   "file_extension": ".py",
   "mimetype": "text/x-python",
   "name": "python",
   "nbconvert_exporter": "python",
   "pygments_lexer": "ipython3",
   "version": "3.7.4"
  },
  "colab": {
   "name": "Neural Style Transfer-Template.ipynb",
   "provenance": []
  }
 },
 "cells": [
  {
   "cell_type": "markdown",
   "metadata": {
    "id": "9wPtO-TA30U0"
   },
   "source": [
    "# 0. Import Dependencies and Pretrained Model"
   ]
  },
  {
   "cell_type": "code",
   "metadata": {
    "id": "V4ARIGPZ30U4",
    "executionInfo": {
     "status": "ok",
     "timestamp": 1615893196972,
     "user_tz": -60,
     "elapsed": 3289,
     "user": {
      "displayName": "Marwen TLILI",
      "photoUrl": "https://lh5.googleusercontent.com/-Bh4FYSnZohQ/AAAAAAAAAAI/AAAAAAAAACE/VlqzVwzJmHM/s64/photo.jpg",
      "userId": "05028837440008417490"
     }
    }
   },
   "source": [
    "import tensorflow_hub as hub\n",
    "import tensorflow as tf\n",
    "from matplotlib import pyplot as plt\n",
    "import numpy as np\n",
    "import cv2"
   ],
   "execution_count": null,
   "outputs": []
  },
  {
   "cell_type": "code",
   "metadata": {
    "id": "6UAcvlo930U5",
    "executionInfo": {
     "status": "ok",
     "timestamp": 1615893200749,
     "user_tz": -60,
     "elapsed": 5199,
     "user": {
      "displayName": "Marwen TLILI",
      "photoUrl": "https://lh5.googleusercontent.com/-Bh4FYSnZohQ/AAAAAAAAAAI/AAAAAAAAACE/VlqzVwzJmHM/s64/photo.jpg",
      "userId": "05028837440008417490"
     }
    }
   },
   "source": [
    "model = hub.load('https://tfhub.dev/google/magenta/arbitrary-image-stylization-v1-256/2')"
   ],
   "execution_count": null,
   "outputs": []
  },
  {
   "cell_type": "markdown",
   "metadata": {
    "id": "2wYKtBHE30U5"
   },
   "source": [
    "# 1. Preprocess Image and Load"
   ]
  },
  {
   "cell_type": "code",
   "metadata": {
    "id": "CP8F42EB30U6",
    "executionInfo": {
     "status": "ok",
     "timestamp": 1615893200754,
     "user_tz": -60,
     "elapsed": 3668,
     "user": {
      "displayName": "Marwen TLILI",
      "photoUrl": "https://lh5.googleusercontent.com/-Bh4FYSnZohQ/AAAAAAAAAAI/AAAAAAAAACE/VlqzVwzJmHM/s64/photo.jpg",
      "userId": "05028837440008417490"
     }
    }
   },
   "source": [
    "def load_image(img_path):\n",
    "    img = tf.io.read_file(img_path)\n",
    "    img = tf.image.decode_image(img, channels=3)\n",
    "    img = tf.image.convert_image_dtype(img, tf.float32)\n",
    "    img = img[tf.newaxis, :]\n",
    "    return img"
   ],
   "execution_count": null,
   "outputs": []
  },
  {
   "cell_type": "markdown",
   "metadata": {
    "id": "dU2h6u-8FF4c"
   },
   "source": [
    "If you want to use it on Google colab run this "
   ]
  },
  {
   "cell_type": "code",
   "metadata": {
    "colab": {
     "base_uri": "https://localhost:8080/"
    },
    "id": "WhrLlvjkHo1c",
    "executionInfo": {
     "status": "ok",
     "timestamp": 1615893223540,
     "user_tz": -60,
     "elapsed": 24571,
     "user": {
      "displayName": "Marwen TLILI",
      "photoUrl": "https://lh5.googleusercontent.com/-Bh4FYSnZohQ/AAAAAAAAAAI/AAAAAAAAACE/VlqzVwzJmHM/s64/photo.jpg",
      "userId": "05028837440008417490"
     }
    },
    "outputId": "ab0df3ae-20fd-4682-cf2d-88243f4d4c22"
   },
   "source": [
    "from pydrive.auth import GoogleAuth\r\n",
    "from pydrive.drive import GoogleDrive\r\n",
    "from google.colab import auth\r\n",
    "from oauth2client.client import GoogleCredentials\r\n",
    "from google.colab import drive\r\n",
    "drive.mount('/content/drive')"
   ],
   "execution_count": null,
   "outputs": []
  },
  {
   "cell_type": "markdown",
   "metadata": {
    "id": "pwcTbghuFEYa"
   },
   "source": [
    ""
   ]
  },
  {
   "cell_type": "code",
   "metadata": {
    "id": "qa872PN530U6",
    "executionInfo": {
     "status": "ok",
     "timestamp": 1615900109756,
     "user_tz": -60,
     "elapsed": 1426,
     "user": {
      "displayName": "Marwen TLILI",
      "photoUrl": "https://lh5.googleusercontent.com/-Bh4FYSnZohQ/AAAAAAAAAAI/AAAAAAAAACE/VlqzVwzJmHM/s64/photo.jpg",
      "userId": "05028837440008417490"
     }
    }
   },
   "source": [
    "content_image = load_image('/content/drive/MyDrive/Python-Neural-Style-Transfer/monalisa.jpg')\n",
    "style_image = load_image('/content/drive/MyDrive/Python-Neural-Style-Transfer/wave.jpg')"
   ],
   "execution_count": null,
   "outputs": []
  },
  {
   "cell_type": "markdown",
   "metadata": {
    "id": "bubJx1fe30U6"
   },
   "source": [
    "# 2. Visualize Output"
   ]
  },
  {
   "cell_type": "code",
   "metadata": {
    "id": "Gjuv-JmO30U7",
    "colab": {
     "base_uri": "https://localhost:8080/"
    },
    "executionInfo": {
     "status": "ok",
     "timestamp": 1615900113364,
     "user_tz": -60,
     "elapsed": 586,
     "user": {
      "displayName": "Marwen TLILI",
      "photoUrl": "https://lh5.googleusercontent.com/-Bh4FYSnZohQ/AAAAAAAAAAI/AAAAAAAAACE/VlqzVwzJmHM/s64/photo.jpg",
      "userId": "05028837440008417490"
     }
    },
    "outputId": "22ed39d4-a297-4c79-b773-34234464c47a"
   },
   "source": [
    "content_image.shape"
   ],
   "execution_count": null,
   "outputs": []
  },
  {
   "cell_type": "code",
   "metadata": {
    "id": "5eWG1kHV30U8",
    "colab": {
     "base_uri": "https://localhost:8080/",
     "height": 269
    },
    "executionInfo": {
     "status": "ok",
     "timestamp": 1615900115143,
     "user_tz": -60,
     "elapsed": 1318,
     "user": {
      "displayName": "Marwen TLILI",
      "photoUrl": "https://lh5.googleusercontent.com/-Bh4FYSnZohQ/AAAAAAAAAAI/AAAAAAAAACE/VlqzVwzJmHM/s64/photo.jpg",
      "userId": "05028837440008417490"
     }
    },
    "outputId": "c48770fb-0d4a-4cde-f33c-356169671845"
   },
   "source": [
    "plt.imshow(np.squeeze(style_image))\n",
    "plt.show()"
   ],
   "execution_count": null,
   "outputs": []
  },
  {
   "cell_type": "markdown",
   "metadata": {
    "id": "LNjcN8j330U8"
   },
   "source": [
    "# 3. Stylize Image"
   ]
  },
  {
   "cell_type": "code",
   "metadata": {
    "id": "D_SHHMWP30U8",
    "executionInfo": {
     "status": "ok",
     "timestamp": 1615900157404,
     "user_tz": -60,
     "elapsed": 41809,
     "user": {
      "displayName": "Marwen TLILI",
      "photoUrl": "https://lh5.googleusercontent.com/-Bh4FYSnZohQ/AAAAAAAAAAI/AAAAAAAAACE/VlqzVwzJmHM/s64/photo.jpg",
      "userId": "05028837440008417490"
     }
    }
   },
   "source": [
    "stylized_image = model(tf.constant(content_image), tf.constant(style_image))[0]"
   ],
   "execution_count": null,
   "outputs": []
  },
  {
   "cell_type": "code",
   "metadata": {
    "id": "9IWDgCy430U8",
    "colab": {
     "base_uri": "https://localhost:8080/",
     "height": 269
    },
    "executionInfo": {
     "status": "ok",
     "timestamp": 1615900158344,
     "user_tz": -60,
     "elapsed": 41068,
     "user": {
      "displayName": "Marwen TLILI",
      "photoUrl": "https://lh5.googleusercontent.com/-Bh4FYSnZohQ/AAAAAAAAAAI/AAAAAAAAACE/VlqzVwzJmHM/s64/photo.jpg",
      "userId": "05028837440008417490"
     }
    },
    "outputId": "c6868546-0186-4922-d920-3fc4db71ed38"
   },
   "source": [
    "plt.imshow(np.squeeze(stylized_image))\n",
    "plt.show()"
   ],
   "execution_count": null,
   "outputs": []
  },
  {
   "cell_type": "code",
   "metadata": {
    "id": "RoIiMmBy30U9",
    "colab": {
     "base_uri": "https://localhost:8080/"
    },
    "executionInfo": {
     "status": "ok",
     "timestamp": 1615900168934,
     "user_tz": -60,
     "elapsed": 612,
     "user": {
      "displayName": "Marwen TLILI",
      "photoUrl": "https://lh5.googleusercontent.com/-Bh4FYSnZohQ/AAAAAAAAAAI/AAAAAAAAACE/VlqzVwzJmHM/s64/photo.jpg",
      "userId": "05028837440008417490"
     }
    },
    "outputId": "bcfafc25-8630-4e59-946b-9cabf99a7001"
   },
   "source": [
    "cv2.imwrite('generated_img.jpg', cv2.cvtColor(np.squeeze(stylized_image)*255, cv2.COLOR_BGR2RGB))"
   ],
   "execution_count": null,
   "outputs": []
  },
  {
   "cell_type": "code",
   "metadata": {
    "id": "q7pJns0X30U9"
   },
   "source": [
    ""
   ],
   "execution_count": null,
   "outputs": []
  }
 ]
}